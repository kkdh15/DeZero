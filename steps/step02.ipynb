{
 "cells": [
  {
   "cell_type": "code",
   "execution_count": 3,
   "metadata": {},
   "outputs": [
    {
     "name": "stdout",
     "output_type": "stream",
     "text": [
      "Defaulting to user installation because normal site-packages is not writeable\n",
      "Collecting import-ipynb\n",
      "  Using cached import_ipynb-0.2-py3-none-any.whl.metadata (2.3 kB)\n",
      "Requirement already satisfied: IPython in /Users/kkdh15/Library/Python/3.9/lib/python/site-packages (from import-ipynb) (8.17.2)\n",
      "Requirement already satisfied: nbformat in /Users/kkdh15/Library/Python/3.9/lib/python/site-packages (from import-ipynb) (5.9.2)\n",
      "Requirement already satisfied: decorator in /Users/kkdh15/Library/Python/3.9/lib/python/site-packages (from IPython->import-ipynb) (5.1.1)\n",
      "Requirement already satisfied: jedi>=0.16 in /Users/kkdh15/Library/Python/3.9/lib/python/site-packages (from IPython->import-ipynb) (0.19.1)\n",
      "Requirement already satisfied: matplotlib-inline in /Users/kkdh15/Library/Python/3.9/lib/python/site-packages (from IPython->import-ipynb) (0.1.6)\n",
      "Requirement already satisfied: prompt-toolkit!=3.0.37,<3.1.0,>=3.0.30 in /Users/kkdh15/Library/Python/3.9/lib/python/site-packages (from IPython->import-ipynb) (3.0.41)\n",
      "Requirement already satisfied: pygments>=2.4.0 in /Users/kkdh15/Library/Python/3.9/lib/python/site-packages (from IPython->import-ipynb) (2.16.1)\n",
      "Requirement already satisfied: stack-data in /Users/kkdh15/Library/Python/3.9/lib/python/site-packages (from IPython->import-ipynb) (0.6.3)\n",
      "Requirement already satisfied: traitlets>=5 in /Users/kkdh15/Library/Python/3.9/lib/python/site-packages (from IPython->import-ipynb) (5.13.0)\n",
      "Requirement already satisfied: typing-extensions in /Users/kkdh15/Library/Python/3.9/lib/python/site-packages (from IPython->import-ipynb) (4.8.0)\n",
      "Requirement already satisfied: exceptiongroup in /Users/kkdh15/Library/Python/3.9/lib/python/site-packages (from IPython->import-ipynb) (1.1.3)\n",
      "Requirement already satisfied: pexpect>4.3 in /Users/kkdh15/Library/Python/3.9/lib/python/site-packages (from IPython->import-ipynb) (4.8.0)\n",
      "Requirement already satisfied: appnope in /Users/kkdh15/Library/Python/3.9/lib/python/site-packages (from IPython->import-ipynb) (0.1.3)\n",
      "Requirement already satisfied: fastjsonschema in /Users/kkdh15/Library/Python/3.9/lib/python/site-packages (from nbformat->import-ipynb) (2.19.0)\n",
      "Requirement already satisfied: jsonschema>=2.6 in /Users/kkdh15/Library/Python/3.9/lib/python/site-packages (from nbformat->import-ipynb) (4.20.0)\n",
      "Requirement already satisfied: jupyter-core in /Users/kkdh15/Library/Python/3.9/lib/python/site-packages (from nbformat->import-ipynb) (5.5.0)\n",
      "Requirement already satisfied: parso<0.9.0,>=0.8.3 in /Users/kkdh15/Library/Python/3.9/lib/python/site-packages (from jedi>=0.16->IPython->import-ipynb) (0.8.3)\n",
      "Requirement already satisfied: attrs>=22.2.0 in /Users/kkdh15/Library/Python/3.9/lib/python/site-packages (from jsonschema>=2.6->nbformat->import-ipynb) (23.1.0)\n",
      "Requirement already satisfied: jsonschema-specifications>=2023.03.6 in /Users/kkdh15/Library/Python/3.9/lib/python/site-packages (from jsonschema>=2.6->nbformat->import-ipynb) (2023.12.1)\n",
      "Requirement already satisfied: referencing>=0.28.4 in /Users/kkdh15/Library/Python/3.9/lib/python/site-packages (from jsonschema>=2.6->nbformat->import-ipynb) (0.32.0)\n",
      "Requirement already satisfied: rpds-py>=0.7.1 in /Users/kkdh15/Library/Python/3.9/lib/python/site-packages (from jsonschema>=2.6->nbformat->import-ipynb) (0.15.2)\n",
      "Requirement already satisfied: ptyprocess>=0.5 in /Users/kkdh15/Library/Python/3.9/lib/python/site-packages (from pexpect>4.3->IPython->import-ipynb) (0.7.0)\n",
      "Requirement already satisfied: wcwidth in /Users/kkdh15/Library/Python/3.9/lib/python/site-packages (from prompt-toolkit!=3.0.37,<3.1.0,>=3.0.30->IPython->import-ipynb) (0.2.10)\n",
      "Requirement already satisfied: platformdirs>=2.5 in /Users/kkdh15/Library/Python/3.9/lib/python/site-packages (from jupyter-core->nbformat->import-ipynb) (4.0.0)\n",
      "Requirement already satisfied: executing>=1.2.0 in /Users/kkdh15/Library/Python/3.9/lib/python/site-packages (from stack-data->IPython->import-ipynb) (2.0.1)\n",
      "Requirement already satisfied: asttokens>=2.1.0 in /Users/kkdh15/Library/Python/3.9/lib/python/site-packages (from stack-data->IPython->import-ipynb) (2.4.1)\n",
      "Requirement already satisfied: pure-eval in /Users/kkdh15/Library/Python/3.9/lib/python/site-packages (from stack-data->IPython->import-ipynb) (0.2.2)\n",
      "Requirement already satisfied: six>=1.12.0 in /Library/Developer/CommandLineTools/Library/Frameworks/Python3.framework/Versions/3.9/lib/python3.9/site-packages (from asttokens>=2.1.0->stack-data->IPython->import-ipynb) (1.15.0)\n",
      "Using cached import_ipynb-0.2-py3-none-any.whl (4.0 kB)\n",
      "Installing collected packages: import-ipynb\n",
      "Successfully installed import-ipynb-0.2\n",
      "\n",
      "\u001b[1m[\u001b[0m\u001b[34;49mnotice\u001b[0m\u001b[1;39;49m]\u001b[0m\u001b[39;49m A new release of pip is available: \u001b[0m\u001b[31;49m24.3.1\u001b[0m\u001b[39;49m -> \u001b[0m\u001b[32;49m25.0.1\u001b[0m\n",
      "\u001b[1m[\u001b[0m\u001b[34;49mnotice\u001b[0m\u001b[1;39;49m]\u001b[0m\u001b[39;49m To update, run: \u001b[0m\u001b[32;49m/Library/Developer/CommandLineTools/usr/bin/python3 -m pip install --upgrade pip\u001b[0m\n"
     ]
    }
   ],
   "source": [
    "!pip install import-ipynb"
   ]
  },
  {
   "cell_type": "code",
   "execution_count": 10,
   "metadata": {},
   "outputs": [],
   "source": [
    "import import_ipynb\n",
    "import numpy as np\n",
    "from step01 import Variable  # step01.ipynb에서 Variable 클래스 가져오기"
   ]
  },
  {
   "cell_type": "markdown",
   "metadata": {},
   "source": [
    "### 2.2 Function 클래스 구현"
   ]
  },
  {
   "cell_type": "code",
   "execution_count": 11,
   "metadata": {},
   "outputs": [],
   "source": [
    "class Function:\n",
    "    def __call__(self, input):\n",
    "        x = input.data\n",
    "        y = x ** 2\n",
    "        output = Variable(y)\n",
    "        return output"
   ]
  },
  {
   "cell_type": "code",
   "execution_count": 13,
   "metadata": {},
   "outputs": [
    {
     "name": "stdout",
     "output_type": "stream",
     "text": [
      "<class 'step01.Variable'>\n",
      "100\n"
     ]
    }
   ],
   "source": [
    "x = Variable(np.array(10))\n",
    "f = Function()\n",
    "y = f(x)\n",
    "\n",
    "print(type(y))\n",
    "print(y.data)"
   ]
  },
  {
   "cell_type": "code",
   "execution_count": 15,
   "metadata": {},
   "outputs": [],
   "source": [
    "class Function:\n",
    "    def __call__(self, input):\n",
    "        x = input.data\n",
    "        y = self.forward(x)\n",
    "        output = Variable(y)\n",
    "        return output\n",
    "    \n",
    "    def forward(self, x):\n",
    "        raise NotImplementedError()"
   ]
  },
  {
   "cell_type": "code",
   "execution_count": 16,
   "metadata": {},
   "outputs": [],
   "source": [
    "class Square(Function):\n",
    "    def forward(self, x):\n",
    "        return x ** 2"
   ]
  },
  {
   "cell_type": "code",
   "execution_count": 17,
   "metadata": {},
   "outputs": [
    {
     "name": "stdout",
     "output_type": "stream",
     "text": [
      "<class 'step01.Variable'>\n",
      "100\n"
     ]
    }
   ],
   "source": [
    "x = Variable(np.array(10))\n",
    "f = Square()\n",
    "y = f(x)\n",
    "print(type(y))\n",
    "print(y.data)"
   ]
  }
 ],
 "metadata": {
  "kernelspec": {
   "display_name": "Python 3",
   "language": "python",
   "name": "python3"
  },
  "language_info": {
   "codemirror_mode": {
    "name": "ipython",
    "version": 3
   },
   "file_extension": ".py",
   "mimetype": "text/x-python",
   "name": "python",
   "nbconvert_exporter": "python",
   "pygments_lexer": "ipython3",
   "version": "3.9.6"
  }
 },
 "nbformat": 4,
 "nbformat_minor": 2
}
