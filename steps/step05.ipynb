{
 "cells": [
  {
   "cell_type": "markdown",
   "metadata": {},
   "source": [
    "역전파 이론"
   ]
  }
 ],
 "metadata": {
  "language_info": {
   "name": "python"
  }
 },
 "nbformat": 4,
 "nbformat_minor": 2
}
